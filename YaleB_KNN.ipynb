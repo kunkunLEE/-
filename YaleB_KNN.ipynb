{
 "cells": [
  {
   "cell_type": "code",
   "execution_count": 1,
   "metadata": {},
   "outputs": [],
   "source": [
    "import scipy.io\n",
    "data = scipy.io.loadmat('D:/本科研究生资料/硕士研究生/课程/机器学习与数据科学/作业/YaleB_32x32.mat')"
   ]
  },
  {
   "cell_type": "code",
   "execution_count": 2,
   "metadata": {},
   "outputs": [
    {
     "name": "stdout",
     "output_type": "stream",
     "text": [
      "[ 1  1  1 ... 38 38 38]\n"
     ]
    }
   ],
   "source": [
    "print(data['index'][0])"
   ]
  },
  {
   "cell_type": "code",
   "execution_count": 3,
   "metadata": {
    "scrolled": false
   },
   "outputs": [
    {
     "name": "stdout",
     "output_type": "stream",
     "text": [
      "38\n"
     ]
    }
   ],
   "source": [
    "def parse(data):\n",
    "    data_set = data['X']\n",
    "    label = data['index'][0]\n",
    "    data_num = len(label)\n",
    "    dimensions = len(data['X'])\n",
    "    classes = len(set(label))\n",
    "    return data_set,label,data_num,dimensions,classes\n",
    "\n",
    "data_set,label,data_num,dimensions,classes = parse(data)\n",
    "print(classes)"
   ]
  },
  {
   "cell_type": "code",
   "execution_count": 4,
   "metadata": {},
   "outputs": [],
   "source": [
    "from random import sample\n",
    "def split_train_test(data_num):\n",
    "    l = range(data_num)\n",
    "    train_set = sorted(sample(l,int(data_num/2)))\n",
    "    test_set = sorted(set(l) - set(train_set))\n",
    "    return train_set,test_set\n",
    "\n",
    "train_set,test_set = split_train_test(data_num)\n",
    "# print(train_set)\n",
    "# print(test_set)"
   ]
  },
  {
   "cell_type": "code",
   "execution_count": 5,
   "metadata": {},
   "outputs": [],
   "source": [
    "def Odistance(x,y):\n",
    "    distance = 0\n",
    "    dimensions = len(x)\n",
    "    for dim in range(dimensions):\n",
    "        distance += (x[dim] - y[dim])**2\n",
    "    return distance**0.5\n",
    "\n",
    "#print(Odistance([1,1,1,1],[2,2,2,2]))"
   ]
  },
  {
   "cell_type": "code",
   "execution_count": 6,
   "metadata": {},
   "outputs": [],
   "source": [
    "from cvxopt import matrix, solvers\n",
    "\n",
    "def judge(k_list):\n",
    "    k_index_list = [x[0] for x in k_list]\n",
    "    class_ = [0]*(classes+1)\n",
    "    for index in k_index_list:\n",
    "        class_[label[index]] += 1\n",
    "    return class_.index(max(class_))\n",
    "\n",
    "def judge2(k_list):\n",
    "    class_ = [0]*(classes+1)\n",
    "    d1 = k_list[0][1]\n",
    "    dk = k_list[-1][1]\n",
    "    for index_distance in k_list:\n",
    "        index = index_distance[0]\n",
    "        di = index_distance[1]\n",
    "        if dk - d1 != 0:\n",
    "            wi = (dk - di)/(dk - d1)\n",
    "        else:\n",
    "            wi = 1\n",
    "        class_[label[index]] += wi\n",
    "    return class_.index(max(class_))\n",
    "\n",
    "def judge3(k_list,x):\n",
    "    k_index_list = [x[0] for x in k_list]\n",
    "    k = len(k_index_list)\n",
    "    class_ = [0]*(classes+1)\n",
    "    P = []\n",
    "    q = []\n",
    "    G = []\n",
    "    h = []\n",
    "    A = []\n",
    "    b = []\n",
    "    for index1 in k_index_list:\n",
    "        p_row = []\n",
    "        for index2 in k_index_list:\n",
    "            p_value = 0.0\n",
    "            for dim in range(dimensions):\n",
    "                p_value += 2*data_set[dim][index1]*data_set[dim][index2]\n",
    "            p_row.append(p_value)\n",
    "        P.append(p_row)\n",
    "        \n",
    "    for index in k_index_list:\n",
    "        q_value = 0.0\n",
    "        for dim in range(dimensions):\n",
    "            q_value += -2*x[dim]*data_set[dim][index]\n",
    "        q.append(q_value)\n",
    "        \n",
    "    for i in range(k):\n",
    "        G_row = [0.0]*k\n",
    "        G_row[i] = -1.0\n",
    "        G.append(G_row)\n",
    "        \n",
    "    h = [0.0]*k\n",
    "    A = [1.0]*k \n",
    "    b = [1.0]\n",
    "    \n",
    "    P = matrix(P)\n",
    "    q = matrix(q)\n",
    "    G = matrix(G)\n",
    "    h = matrix(h)\n",
    "    A = matrix(A,(1,k))#原型为cvxopt.matrix(array,dims)，等价于A = matrix([[1.0],[1.0]]）\n",
    "    b = matrix([1.0])\n",
    "    \n",
    "    W = solvers.qp(P,q,G,h,A,b)['x']\n",
    "    for i in range(k):\n",
    "        class_[label[k_index_list[i]]] += W[i]\n",
    "    return class_.index(max(class_))"
   ]
  },
  {
   "cell_type": "code",
   "execution_count": 7,
   "metadata": {},
   "outputs": [],
   "source": [
    "train_set,test_set = split_train_test(data_num)"
   ]
  },
  {
   "cell_type": "code",
   "execution_count": null,
   "metadata": {},
   "outputs": [
    {
     "name": "stderr",
     "output_type": "stream",
     "text": [
      "D:\\compiler\\anaconda\\lib\\site-packages\\ipykernel_launcher.py:5: RuntimeWarning: overflow encountered in ubyte_scalars\n",
      "  \"\"\"\n"
     ]
    }
   ],
   "source": [
    "train_set,test_set = split_train_test(data_num)\n",
    "k = 1\n",
    "real_class_list = []\n",
    "predict_class_list = []\n",
    "test_num = len(test_set)\n",
    "hit_num = 0\n",
    "for index1 in test_set:\n",
    "    real_class = label[index1]\n",
    "    real_class_list.append(real_class)\n",
    "    x = []\n",
    "    for i in range(dimensions):\n",
    "        x.append(data_set[i][index1])\n",
    "    distance_index_list = []\n",
    "    for index2 in train_set:\n",
    "        y = []\n",
    "        for i in range(dimensions):\n",
    "            y.append(data_set[i][index2])\n",
    "        distance = Odistance(x,y)\n",
    "        distance_index_list.append((index2,distance))\n",
    "    distance_index_list.sort(key = lambda x : x[1]) #从小到大\n",
    "    k_list = distance_index_list[0:k]\n",
    "    \n",
    "    predict_class = judge(k_list)\n",
    "    predict_class_list.append(predict_class)\n",
    "    if predict_class == real_class:\n",
    "        hit_num += 1\n",
    "        \n",
    "print(\"准确率为：\",hit_num)\n",
    "print(real_class_list)\n",
    "print(predict_class_list)"
   ]
  },
  {
   "cell_type": "code",
   "execution_count": null,
   "metadata": {},
   "outputs": [],
   "source": [
    "print(\"准确率为：\",hit_num)\n",
    "print(real_class_list)\n",
    "print(predict_class_list)"
   ]
  },
  {
   "cell_type": "code",
   "execution_count": 208,
   "metadata": {},
   "outputs": [
    {
     "name": "stdout",
     "output_type": "stream",
     "text": [
      "0.9146666666666666\n",
      "0.06958927120373273\n"
     ]
    }
   ],
   "source": [
    "list_ = [69,60,70,69,75,64,73,74,60,72]\n",
    "print(sum(list_)/750)\n",
    "import numpy as np \n",
    "var = np.var(list_)\n",
    "print((var**0.5)/75)"
   ]
  },
  {
   "cell_type": "code",
   "execution_count": null,
   "metadata": {},
   "outputs": [],
   "source": []
  },
  {
   "cell_type": "code",
   "execution_count": null,
   "metadata": {},
   "outputs": [],
   "source": []
  }
 ],
 "metadata": {
  "kernelspec": {
   "display_name": "Python 3",
   "language": "python",
   "name": "python3"
  },
  "language_info": {
   "codemirror_mode": {
    "name": "ipython",
    "version": 3
   },
   "file_extension": ".py",
   "mimetype": "text/x-python",
   "name": "python",
   "nbconvert_exporter": "python",
   "pygments_lexer": "ipython3",
   "version": "3.7.0"
  }
 },
 "nbformat": 4,
 "nbformat_minor": 2
}
